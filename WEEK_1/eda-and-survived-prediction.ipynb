{
 "cells": [
  {
   "cell_type": "markdown",
   "metadata": {
    "papermill": {
     "duration": 0.028509,
     "end_time": "2021-01-06T18:27:24.775776",
     "exception": false,
     "start_time": "2021-01-06T18:27:24.747267",
     "status": "completed"
    },
    "tags": []
   },
   "source": [
    "Hi guys, after studying multiple notebooks, blog posts I am building a machine learning model "
   ]
  },
  {
   "cell_type": "code",
   "execution_count": 1,
   "metadata": {
    "_cell_guid": "b1076dfc-b9ad-4769-8c92-a6c4dae69d19",
    "_uuid": "8f2839f25d086af736a60e9eeb907d3b93b6e0e5",
    "execution": {
     "iopub.execute_input": "2021-01-06T18:27:24.837943Z",
     "iopub.status.busy": "2021-01-06T18:27:24.837151Z",
     "iopub.status.idle": "2021-01-06T18:27:24.842131Z",
     "shell.execute_reply": "2021-01-06T18:27:24.842668Z"
    },
    "papermill": {
     "duration": 0.039537,
     "end_time": "2021-01-06T18:27:24.842888",
     "exception": false,
     "start_time": "2021-01-06T18:27:24.803351",
     "status": "completed"
    },
    "tags": []
   },
   "outputs": [
    {
     "name": "stdout",
     "output_type": "stream",
     "text": [
      "/kaggle/input/titanic/train.csv\n",
      "/kaggle/input/titanic/test.csv\n",
      "/kaggle/input/titanic/gender_submission.csv\n"
     ]
    }
   ],
   "source": [
    "# This Python 3 environment comes with many helpful analytics libraries installed\n",
    "# It is defined by the kaggle/python Docker image: https://github.com/kaggle/docker-python\n",
    "# For example, here's several helpful packages to load\n",
    "\n",
    "import numpy as np # linear algebra\n",
    "import pandas as pd # data processing, CSV file I/O (e.g. pd.read_csv)\n",
    "\n",
    "# Input data files are available in the read-only \"../input/\" directory\n",
    "# For example, running this (by clicking run or pressing Shift+Enter) will list all files under the input directory\n",
    "\n",
    "import os\n",
    "for dirname, _, filenames in os.walk('/kaggle/input'):\n",
    "    for filename in filenames:\n",
    "        print(os.path.join(dirname, filename))\n",
    "\n",
    "# You can write up to 20GB to the current directory (/kaggle/working/) that gets preserved as output when you create a version using \"Save & Run All\" \n",
    "# You can also write temporary files to /kaggle/temp/, but they won't be saved outside of the current session"
   ]
  },
  {
   "cell_type": "markdown",
   "metadata": {
    "papermill": {
     "duration": 0.027251,
     "end_time": "2021-01-06T18:27:24.897396",
     "exception": false,
     "start_time": "2021-01-06T18:27:24.870145",
     "status": "completed"
    },
    "tags": []
   },
   "source": [
    "Let's load the train and test set into a pandas dataframe using pandas's read_csv function.\n",
    "The head funtion gives presents the top 🔝 few rows."
   ]
  },
  {
   "cell_type": "code",
   "execution_count": 2,
   "metadata": {
    "execution": {
     "iopub.execute_input": "2021-01-06T18:27:24.955107Z",
     "iopub.status.busy": "2021-01-06T18:27:24.954430Z",
     "iopub.status.idle": "2021-01-06T18:27:25.017481Z",
     "shell.execute_reply": "2021-01-06T18:27:25.016942Z"
    },
    "papermill": {
     "duration": 0.093154,
     "end_time": "2021-01-06T18:27:25.017588",
     "exception": false,
     "start_time": "2021-01-06T18:27:24.924434",
     "status": "completed"
    },
    "tags": []
   },
   "outputs": [
    {
     "data": {
      "text/html": [
       "<div>\n",
       "<style scoped>\n",
       "    .dataframe tbody tr th:only-of-type {\n",
       "        vertical-align: middle;\n",
       "    }\n",
       "\n",
       "    .dataframe tbody tr th {\n",
       "        vertical-align: top;\n",
       "    }\n",
       "\n",
       "    .dataframe thead th {\n",
       "        text-align: right;\n",
       "    }\n",
       "</style>\n",
       "<table border=\"1\" class=\"dataframe\">\n",
       "  <thead>\n",
       "    <tr style=\"text-align: right;\">\n",
       "      <th></th>\n",
       "      <th>PassengerId</th>\n",
       "      <th>Survived</th>\n",
       "      <th>Pclass</th>\n",
       "      <th>Name</th>\n",
       "      <th>Sex</th>\n",
       "      <th>Age</th>\n",
       "      <th>SibSp</th>\n",
       "      <th>Parch</th>\n",
       "      <th>Ticket</th>\n",
       "      <th>Fare</th>\n",
       "      <th>Cabin</th>\n",
       "      <th>Embarked</th>\n",
       "    </tr>\n",
       "  </thead>\n",
       "  <tbody>\n",
       "    <tr>\n",
       "      <th>0</th>\n",
       "      <td>1</td>\n",
       "      <td>0</td>\n",
       "      <td>3</td>\n",
       "      <td>Braund, Mr. Owen Harris</td>\n",
       "      <td>male</td>\n",
       "      <td>22.0</td>\n",
       "      <td>1</td>\n",
       "      <td>0</td>\n",
       "      <td>A/5 21171</td>\n",
       "      <td>7.2500</td>\n",
       "      <td>NaN</td>\n",
       "      <td>S</td>\n",
       "    </tr>\n",
       "    <tr>\n",
       "      <th>1</th>\n",
       "      <td>2</td>\n",
       "      <td>1</td>\n",
       "      <td>1</td>\n",
       "      <td>Cumings, Mrs. John Bradley (Florence Briggs Th...</td>\n",
       "      <td>female</td>\n",
       "      <td>38.0</td>\n",
       "      <td>1</td>\n",
       "      <td>0</td>\n",
       "      <td>PC 17599</td>\n",
       "      <td>71.2833</td>\n",
       "      <td>C85</td>\n",
       "      <td>C</td>\n",
       "    </tr>\n",
       "    <tr>\n",
       "      <th>2</th>\n",
       "      <td>3</td>\n",
       "      <td>1</td>\n",
       "      <td>3</td>\n",
       "      <td>Heikkinen, Miss. Laina</td>\n",
       "      <td>female</td>\n",
       "      <td>26.0</td>\n",
       "      <td>0</td>\n",
       "      <td>0</td>\n",
       "      <td>STON/O2. 3101282</td>\n",
       "      <td>7.9250</td>\n",
       "      <td>NaN</td>\n",
       "      <td>S</td>\n",
       "    </tr>\n",
       "    <tr>\n",
       "      <th>3</th>\n",
       "      <td>4</td>\n",
       "      <td>1</td>\n",
       "      <td>1</td>\n",
       "      <td>Futrelle, Mrs. Jacques Heath (Lily May Peel)</td>\n",
       "      <td>female</td>\n",
       "      <td>35.0</td>\n",
       "      <td>1</td>\n",
       "      <td>0</td>\n",
       "      <td>113803</td>\n",
       "      <td>53.1000</td>\n",
       "      <td>C123</td>\n",
       "      <td>S</td>\n",
       "    </tr>\n",
       "    <tr>\n",
       "      <th>4</th>\n",
       "      <td>5</td>\n",
       "      <td>0</td>\n",
       "      <td>3</td>\n",
       "      <td>Allen, Mr. William Henry</td>\n",
       "      <td>male</td>\n",
       "      <td>35.0</td>\n",
       "      <td>0</td>\n",
       "      <td>0</td>\n",
       "      <td>373450</td>\n",
       "      <td>8.0500</td>\n",
       "      <td>NaN</td>\n",
       "      <td>S</td>\n",
       "    </tr>\n",
       "  </tbody>\n",
       "</table>\n",
       "</div>"
      ],
      "text/plain": [
       "   PassengerId  Survived  Pclass  \\\n",
       "0            1         0       3   \n",
       "1            2         1       1   \n",
       "2            3         1       3   \n",
       "3            4         1       1   \n",
       "4            5         0       3   \n",
       "\n",
       "                                                Name     Sex   Age  SibSp  \\\n",
       "0                            Braund, Mr. Owen Harris    male  22.0      1   \n",
       "1  Cumings, Mrs. John Bradley (Florence Briggs Th...  female  38.0      1   \n",
       "2                             Heikkinen, Miss. Laina  female  26.0      0   \n",
       "3       Futrelle, Mrs. Jacques Heath (Lily May Peel)  female  35.0      1   \n",
       "4                           Allen, Mr. William Henry    male  35.0      0   \n",
       "\n",
       "   Parch            Ticket     Fare Cabin Embarked  \n",
       "0      0         A/5 21171   7.2500   NaN        S  \n",
       "1      0          PC 17599  71.2833   C85        C  \n",
       "2      0  STON/O2. 3101282   7.9250   NaN        S  \n",
       "3      0            113803  53.1000  C123        S  \n",
       "4      0            373450   8.0500   NaN        S  "
      ]
     },
     "execution_count": 2,
     "metadata": {},
     "output_type": "execute_result"
    }
   ],
   "source": [
    "train_df = pd.read_csv('../input/titanic/train.csv') \n",
    "test_df = pd.read_csv('../input/titanic/test.csv')\n",
    "train_df.head()"
   ]
  },
  {
   "cell_type": "markdown",
   "metadata": {
    "papermill": {
     "duration": 0.027678,
     "end_time": "2021-01-06T18:27:25.072950",
     "exception": false,
     "start_time": "2021-01-06T18:27:25.045272",
     "status": "completed"
    },
    "tags": []
   },
   "source": [
    "Now the next step is to understand the data, for example \n",
    "1. what are the features, \n",
    "2. what kind of transformations are needed yo be done on those features (normalization, one-hot encoding for categorical features, etc) , \n",
    "3. missing data if any and \n",
    "4. best ways to impute missing data\n",
    "\n",
    "There are multiple ways to achieve this. One can use df.describe() or df.info() or even [pandas-profiling library](https://github.com/pandas-profiling/pandas-profiling)\n",
    "But here I have built my own code block to get this done. "
   ]
  },
  {
   "cell_type": "code",
   "execution_count": 3,
   "metadata": {
    "execution": {
     "iopub.execute_input": "2021-01-06T18:27:25.157533Z",
     "iopub.status.busy": "2021-01-06T18:27:25.154428Z",
     "iopub.status.idle": "2021-01-06T18:27:25.407132Z",
     "shell.execute_reply": "2021-01-06T18:27:25.406448Z"
    },
    "papermill": {
     "duration": 0.306815,
     "end_time": "2021-01-06T18:27:25.407246",
     "exception": false,
     "start_time": "2021-01-06T18:27:25.100431",
     "status": "completed"
    },
    "tags": []
   },
   "outputs": [
    {
     "name": "stdout",
     "output_type": "stream",
     "text": [
      "Shape of dataframe (891, 12)\n",
      "FOR NUMERICAL COLUMNS\n"
     ]
    },
    {
     "data": {
      "text/html": [
       "<div>\n",
       "<style scoped>\n",
       "    .dataframe tbody tr th:only-of-type {\n",
       "        vertical-align: middle;\n",
       "    }\n",
       "\n",
       "    .dataframe tbody tr th {\n",
       "        vertical-align: top;\n",
       "    }\n",
       "\n",
       "    .dataframe thead th {\n",
       "        text-align: right;\n",
       "    }\n",
       "</style>\n",
       "<table border=\"1\" class=\"dataframe\">\n",
       "  <thead>\n",
       "    <tr style=\"text-align: right;\">\n",
       "      <th></th>\n",
       "      <th>DataType</th>\n",
       "      <th>HasMissing</th>\n",
       "      <th>NumberOfMissingCells</th>\n",
       "      <th>CorrelationWithTarget</th>\n",
       "      <th>Mean</th>\n",
       "      <th>Median</th>\n",
       "      <th>Mode</th>\n",
       "      <th>MinValue</th>\n",
       "      <th>MaxValue</th>\n",
       "    </tr>\n",
       "    <tr>\n",
       "      <th>ColumnName</th>\n",
       "      <th></th>\n",
       "      <th></th>\n",
       "      <th></th>\n",
       "      <th></th>\n",
       "      <th></th>\n",
       "      <th></th>\n",
       "      <th></th>\n",
       "      <th></th>\n",
       "      <th></th>\n",
       "    </tr>\n",
       "  </thead>\n",
       "  <tbody>\n",
       "    <tr>\n",
       "      <th>Survived</th>\n",
       "      <td>binary</td>\n",
       "      <td>False</td>\n",
       "      <td>0</td>\n",
       "      <td>1.000000</td>\n",
       "      <td>NaN</td>\n",
       "      <td>NaN</td>\n",
       "      <td>0</td>\n",
       "      <td>NaN</td>\n",
       "      <td>NaN</td>\n",
       "    </tr>\n",
       "    <tr>\n",
       "      <th>Fare</th>\n",
       "      <td>float64</td>\n",
       "      <td>False</td>\n",
       "      <td>0</td>\n",
       "      <td>0.257307</td>\n",
       "      <td>32.204208</td>\n",
       "      <td>14.4542</td>\n",
       "      <td>8.05</td>\n",
       "      <td>0.00</td>\n",
       "      <td>512.3292</td>\n",
       "    </tr>\n",
       "    <tr>\n",
       "      <th>Parch</th>\n",
       "      <td>int64</td>\n",
       "      <td>False</td>\n",
       "      <td>0</td>\n",
       "      <td>0.081629</td>\n",
       "      <td>0.381594</td>\n",
       "      <td>0.0000</td>\n",
       "      <td>0</td>\n",
       "      <td>0.00</td>\n",
       "      <td>6.0000</td>\n",
       "    </tr>\n",
       "    <tr>\n",
       "      <th>PassengerId</th>\n",
       "      <td>int64</td>\n",
       "      <td>False</td>\n",
       "      <td>0</td>\n",
       "      <td>-0.005007</td>\n",
       "      <td>446.000000</td>\n",
       "      <td>446.0000</td>\n",
       "      <td>1</td>\n",
       "      <td>1.00</td>\n",
       "      <td>891.0000</td>\n",
       "    </tr>\n",
       "    <tr>\n",
       "      <th>SibSp</th>\n",
       "      <td>int64</td>\n",
       "      <td>False</td>\n",
       "      <td>0</td>\n",
       "      <td>-0.035322</td>\n",
       "      <td>0.523008</td>\n",
       "      <td>0.0000</td>\n",
       "      <td>0</td>\n",
       "      <td>0.00</td>\n",
       "      <td>8.0000</td>\n",
       "    </tr>\n",
       "    <tr>\n",
       "      <th>Age</th>\n",
       "      <td>float64</td>\n",
       "      <td>True</td>\n",
       "      <td>177</td>\n",
       "      <td>-0.077221</td>\n",
       "      <td>29.699118</td>\n",
       "      <td>28.0000</td>\n",
       "      <td>24</td>\n",
       "      <td>0.42</td>\n",
       "      <td>80.0000</td>\n",
       "    </tr>\n",
       "    <tr>\n",
       "      <th>Pclass</th>\n",
       "      <td>int64</td>\n",
       "      <td>False</td>\n",
       "      <td>0</td>\n",
       "      <td>-0.338481</td>\n",
       "      <td>2.308642</td>\n",
       "      <td>3.0000</td>\n",
       "      <td>3</td>\n",
       "      <td>1.00</td>\n",
       "      <td>3.0000</td>\n",
       "    </tr>\n",
       "  </tbody>\n",
       "</table>\n",
       "</div>"
      ],
      "text/plain": [
       "            DataType  HasMissing  NumberOfMissingCells  CorrelationWithTarget  \\\n",
       "ColumnName                                                                      \n",
       "Survived      binary       False                     0               1.000000   \n",
       "Fare         float64       False                     0               0.257307   \n",
       "Parch          int64       False                     0               0.081629   \n",
       "PassengerId    int64       False                     0              -0.005007   \n",
       "SibSp          int64       False                     0              -0.035322   \n",
       "Age          float64        True                   177              -0.077221   \n",
       "Pclass         int64       False                     0              -0.338481   \n",
       "\n",
       "                   Mean    Median  Mode  MinValue  MaxValue  \n",
       "ColumnName                                                   \n",
       "Survived            NaN       NaN     0       NaN       NaN  \n",
       "Fare          32.204208   14.4542  8.05      0.00  512.3292  \n",
       "Parch          0.381594    0.0000     0      0.00    6.0000  \n",
       "PassengerId  446.000000  446.0000     1      1.00  891.0000  \n",
       "SibSp          0.523008    0.0000     0      0.00    8.0000  \n",
       "Age           29.699118   28.0000    24      0.42   80.0000  \n",
       "Pclass         2.308642    3.0000     3      1.00    3.0000  "
      ]
     },
     "execution_count": 3,
     "metadata": {},
     "output_type": "execute_result"
    }
   ],
   "source": [
    "target_col = 'Survived'\n",
    "\n",
    "print(f\"Shape of dataframe {train_df.shape}\")\n",
    "\n",
    "rows = []\n",
    "for col in train_df.columns: # iterate through each column\n",
    "    if train_df[col].isin([0, 1, np.nan]).all(): # if column is binary, print binary as data type, number of missing values and correlation with target\n",
    "        row_dict = {'ColumnName': col, 'DataType': 'binary', 'HasMissing':train_df.isnull().any().loc[col],\n",
    "                    'NumberOfMissingCells': train_df.isnull().sum().loc[col], 'CorrelationWithTarget': train_df.corr()[target_col].loc[col],\n",
    "                    'Mean': np.nan, 'Median': np.nan,'Mode': train_df.mode()[col].loc[0], 'MinValue': np.nan, 'MaxValue': np.nan }\n",
    "    \n",
    "    elif train_df.dtypes.loc[col] == 'int64' or train_df.dtypes.loc[col] == 'float64': # if column is continous, then print Number Of MissingCells, Correlation With Target, mean, median, mode, Min and Max\n",
    "        \n",
    "        row_dict = {'ColumnName': col, 'DataType': train_df.dtypes.loc[col], 'HasMissing':train_df.isnull().any().loc[col],\n",
    "                    'NumberOfMissingCells': train_df.isnull().sum().loc[col], 'CorrelationWithTarget': train_df.corr()[target_col].loc[col],\n",
    "                    'Mean': train_df.mean().loc[col], 'Median':train_df.median().loc[col], 'Mode': train_df.mode()[col].loc[0],\n",
    "                    'MinValue': train_df.min().loc[col], 'MaxValue': train_df.max().loc[col] }\n",
    "        \n",
    "    else: # finally if column is categorical, print only NumberOfMissingCells and mode (most frequent values)\n",
    "        row_dict = {'ColumnName': col, 'DataType': train_df.dtypes.loc[col], 'HasMissing':train_df.isnull().any().loc[col],\n",
    "                    'NumberOfMissingCells': train_df.isnull().sum().loc[col], 'CorrelationWithTarget': np.nan, 'Mean': np.nan, 'Median': np.nan,\n",
    "                    'Mode': train_df.mode()[col].loc[0], 'MinValue': np.nan, 'MaxValue': np.nan }\n",
    "        \n",
    "    rows.append(row_dict)\n",
    "    \n",
    "        \n",
    "info_df = pd.DataFrame(rows, columns=['ColumnName', 'DataType', 'HasMissing', 'NumberOfMissingCells', 'CorrelationWithTarget', 'Mean', 'Median', 'Mode', 'MinValue', 'MaxValue'])\n",
    "\n",
    "info_df.set_index('ColumnName', inplace=True)\n",
    "    \n",
    "info_df = info_df.sort_values('CorrelationWithTarget', ascending=False, na_position='last')\n",
    "\n",
    "print(\"FOR NUMERICAL COLUMNS\")\n",
    "info_df[info_df['DataType']!='object']"
   ]
  },
  {
   "cell_type": "markdown",
   "metadata": {
    "papermill": {
     "duration": 0.029495,
     "end_time": "2021-01-06T18:27:25.466862",
     "exception": false,
     "start_time": "2021-01-06T18:27:25.437367",
     "status": "completed"
    },
    "tags": []
   },
   "source": [
    "The remaining columns are categorical in nature and we will analyse the correlation with target one by one."
   ]
  },
  {
   "cell_type": "code",
   "execution_count": 4,
   "metadata": {
    "execution": {
     "iopub.execute_input": "2021-01-06T18:27:25.543247Z",
     "iopub.status.busy": "2021-01-06T18:27:25.542495Z",
     "iopub.status.idle": "2021-01-06T18:27:25.547504Z",
     "shell.execute_reply": "2021-01-06T18:27:25.546957Z"
    },
    "papermill": {
     "duration": 0.051916,
     "end_time": "2021-01-06T18:27:25.547629",
     "exception": false,
     "start_time": "2021-01-06T18:27:25.495713",
     "status": "completed"
    },
    "tags": []
   },
   "outputs": [
    {
     "name": "stdout",
     "output_type": "stream",
     "text": [
      "\n",
      "For categorical/non-numeric columns\n"
     ]
    },
    {
     "data": {
      "text/html": [
       "<div>\n",
       "<style scoped>\n",
       "    .dataframe tbody tr th:only-of-type {\n",
       "        vertical-align: middle;\n",
       "    }\n",
       "\n",
       "    .dataframe tbody tr th {\n",
       "        vertical-align: top;\n",
       "    }\n",
       "\n",
       "    .dataframe thead th {\n",
       "        text-align: right;\n",
       "    }\n",
       "</style>\n",
       "<table border=\"1\" class=\"dataframe\">\n",
       "  <thead>\n",
       "    <tr style=\"text-align: right;\">\n",
       "      <th></th>\n",
       "      <th>DataType</th>\n",
       "      <th>HasMissing</th>\n",
       "      <th>NumberOfMissingCells</th>\n",
       "      <th>Mode</th>\n",
       "    </tr>\n",
       "    <tr>\n",
       "      <th>ColumnName</th>\n",
       "      <th></th>\n",
       "      <th></th>\n",
       "      <th></th>\n",
       "      <th></th>\n",
       "    </tr>\n",
       "  </thead>\n",
       "  <tbody>\n",
       "    <tr>\n",
       "      <th>Name</th>\n",
       "      <td>object</td>\n",
       "      <td>False</td>\n",
       "      <td>0</td>\n",
       "      <td>Abbing, Mr. Anthony</td>\n",
       "    </tr>\n",
       "    <tr>\n",
       "      <th>Sex</th>\n",
       "      <td>object</td>\n",
       "      <td>False</td>\n",
       "      <td>0</td>\n",
       "      <td>male</td>\n",
       "    </tr>\n",
       "    <tr>\n",
       "      <th>Ticket</th>\n",
       "      <td>object</td>\n",
       "      <td>False</td>\n",
       "      <td>0</td>\n",
       "      <td>1601</td>\n",
       "    </tr>\n",
       "    <tr>\n",
       "      <th>Cabin</th>\n",
       "      <td>object</td>\n",
       "      <td>True</td>\n",
       "      <td>687</td>\n",
       "      <td>B96 B98</td>\n",
       "    </tr>\n",
       "    <tr>\n",
       "      <th>Embarked</th>\n",
       "      <td>object</td>\n",
       "      <td>True</td>\n",
       "      <td>2</td>\n",
       "      <td>S</td>\n",
       "    </tr>\n",
       "  </tbody>\n",
       "</table>\n",
       "</div>"
      ],
      "text/plain": [
       "           DataType  HasMissing  NumberOfMissingCells                 Mode\n",
       "ColumnName                                                                \n",
       "Name         object       False                     0  Abbing, Mr. Anthony\n",
       "Sex          object       False                     0                 male\n",
       "Ticket       object       False                     0                 1601\n",
       "Cabin        object        True                   687              B96 B98\n",
       "Embarked     object        True                     2                    S"
      ]
     },
     "execution_count": 4,
     "metadata": {},
     "output_type": "execute_result"
    }
   ],
   "source": [
    "print(\"\\nFor categorical/non-numeric columns\")\n",
    "info_df[info_df['DataType']=='object'].drop(['CorrelationWithTarget', 'Mean', 'Median', 'MinValue', 'MaxValue'], axis=1)"
   ]
  },
  {
   "cell_type": "code",
   "execution_count": 5,
   "metadata": {
    "execution": {
     "iopub.execute_input": "2021-01-06T18:27:25.613022Z",
     "iopub.status.busy": "2021-01-06T18:27:25.612286Z",
     "iopub.status.idle": "2021-01-06T18:27:25.627532Z",
     "shell.execute_reply": "2021-01-06T18:27:25.628040Z"
    },
    "papermill": {
     "duration": 0.050272,
     "end_time": "2021-01-06T18:27:25.628184",
     "exception": false,
     "start_time": "2021-01-06T18:27:25.577912",
     "status": "completed"
    },
    "tags": []
   },
   "outputs": [
    {
     "name": "stdout",
     "output_type": "stream",
     "text": [
      "<class 'pandas.core.frame.DataFrame'>\n",
      "RangeIndex: 418 entries, 0 to 417\n",
      "Data columns (total 11 columns):\n",
      " #   Column       Non-Null Count  Dtype  \n",
      "---  ------       --------------  -----  \n",
      " 0   PassengerId  418 non-null    int64  \n",
      " 1   Pclass       418 non-null    int64  \n",
      " 2   Name         418 non-null    object \n",
      " 3   Sex          418 non-null    object \n",
      " 4   Age          332 non-null    float64\n",
      " 5   SibSp        418 non-null    int64  \n",
      " 6   Parch        418 non-null    int64  \n",
      " 7   Ticket       418 non-null    object \n",
      " 8   Fare         417 non-null    float64\n",
      " 9   Cabin        91 non-null     object \n",
      " 10  Embarked     418 non-null    object \n",
      "dtypes: float64(2), int64(4), object(5)\n",
      "memory usage: 36.0+ KB\n"
     ]
    }
   ],
   "source": [
    "test_df.info()"
   ]
  },
  {
   "cell_type": "markdown",
   "metadata": {
    "papermill": {
     "duration": 0.030222,
     "end_time": "2021-01-06T18:27:25.689077",
     "exception": false,
     "start_time": "2021-01-06T18:27:25.658855",
     "status": "completed"
    },
    "tags": []
   },
   "source": [
    "## Observations:\n",
    "\n",
    "1. Columns Cabin, Embarked and Age have missing data in training set.\n",
    "2. Most common value of Embarked is S\n",
    "3. Fare has the highest correlation with Survived\n"
   ]
  },
  {
   "cell_type": "code",
   "execution_count": 6,
   "metadata": {
    "execution": {
     "iopub.execute_input": "2021-01-06T18:27:25.754148Z",
     "iopub.status.busy": "2021-01-06T18:27:25.753511Z",
     "iopub.status.idle": "2021-01-06T18:27:27.193016Z",
     "shell.execute_reply": "2021-01-06T18:27:27.192364Z"
    },
    "papermill": {
     "duration": 1.473187,
     "end_time": "2021-01-06T18:27:27.193150",
     "exception": false,
     "start_time": "2021-01-06T18:27:25.719963",
     "status": "completed"
    },
    "tags": []
   },
   "outputs": [
    {
     "data": {
      "image/png": "[encoded data removed]",
      "text/plain": [
       "<Figure size 576x864 with 2 Axes>"
      ]
     },
     "metadata": {
      "needs_background": "light"
     },
     "output_type": "display_data"
    }
   ],
   "source": [
    "import seaborn as sns\n",
    "import matplotlib.pyplot as plt\n",
    "\n",
    "plt.figure(figsize=(8, 12))\n",
    "heatmap = sns.heatmap(train_df.corr()[[target_col]].sort_values(by=target_col, ascending=False), vmin=-1, vmax=1, annot=True, cmap='BrBG')\n",
    "heatmap.set_title(f'Features Correlating with {target_col}', fontdict={'fontsize':18}, pad=16);"
   ]
  },
  {
   "cell_type": "markdown",
   "metadata": {
    "papermill": {
     "duration": 0.032374,
     "end_time": "2021-01-06T18:27:27.258811",
     "exception": false,
     "start_time": "2021-01-06T18:27:27.226437",
     "status": "completed"
    },
    "tags": []
   },
   "source": [
    "# Name\n",
    "Starting with the name column, it does not direcly contribute to the survival of a person, but it contains the title.\n",
    "The title of a person tells us how important he/she is. An important person like the Royalty are more likely to be rescued first.\n",
    "We can see below that there are many title, so lets combine them into more meaningful categories. For example Master refers you male children and 'Mlle' or 'Ms' means 'Miss' ."
   ]
  },
  {
   "cell_type": "code",
   "execution_count": 7,
   "metadata": {
    "execution": {
     "iopub.execute_input": "2021-01-06T18:27:27.339886Z",
     "iopub.status.busy": "2021-01-06T18:27:27.339187Z",
     "iopub.status.idle": "2021-01-06T18:27:27.344313Z",
     "shell.execute_reply": "2021-01-06T18:27:27.343647Z"
    },
    "papermill": {
     "duration": 0.053227,
     "end_time": "2021-01-06T18:27:27.344452",
     "exception": false,
     "start_time": "2021-01-06T18:27:27.291225",
     "status": "completed"
    },
    "tags": []
   },
   "outputs": [
    {
     "data": {
      "text/plain": [
       " Mr              517\n",
       " Miss            182\n",
       " Mrs             125\n",
       " Master           40\n",
       " Dr                7\n",
       " Rev               6\n",
       " Major             2\n",
       " Mlle              2\n",
       " Col               2\n",
       " the Countess      1\n",
       " Sir               1\n",
       " Ms                1\n",
       " Mme               1\n",
       " Jonkheer          1\n",
       " Don               1\n",
       " Lady              1\n",
       " Capt              1\n",
       "Name: Name, dtype: int64"
      ]
     },
     "execution_count": 7,
     "metadata": {},
     "output_type": "execute_result"
    }
   ],
   "source": [
    "train_df.Name.str.split(',').str[1].str.split('.').str[0].value_counts()"
   ]
  },
  {
   "cell_type": "code",
   "execution_count": 8,
   "metadata": {
    "execution": {
     "iopub.execute_input": "2021-01-06T18:27:27.414465Z",
     "iopub.status.busy": "2021-01-06T18:27:27.413758Z",
     "iopub.status.idle": "2021-01-06T18:27:27.442291Z",
     "shell.execute_reply": "2021-01-06T18:27:27.442798Z"
    },
    "papermill": {
     "duration": 0.065699,
     "end_time": "2021-01-06T18:27:27.442988",
     "exception": false,
     "start_time": "2021-01-06T18:27:27.377289",
     "status": "completed"
    },
    "tags": []
   },
   "outputs": [],
   "source": [
    "train_df['Title'] = train_df.Name.str.split(',').str[1].str.split('.').str[0].str.strip() # create the title column\n",
    "test_df['Title'] = test_df.Name.str.split(',').str[1].str.split('.').str[0].str.strip()\n",
    "\n",
    "# anything other than Mr, Mrs, Miss and Master will be kept in others group\n",
    "train_df['Title'] = train_df['Title'].replace(['Lady', 'Countess', 'the Countess', 'Capt', 'Col', 'Don', 'Dr', 'Major', 'Rev', 'Sir', 'Jonkheer', 'Dona'], 'Rare')\n",
    "test_df['Title'] = test_df['Title'].replace(['Lady', 'Countess', 'the Countess', 'Capt', 'Col', 'Don', 'Dr', 'Major', 'Rev', 'Sir', 'Jonkheer', 'Dona'], 'Rare')\n",
    "\n",
    "train_df['Title'] = train_df['Title'].replace('Mlle', 'Miss')\n",
    "train_df['Title'] = train_df['Title'].replace('Ms', 'Miss')\n",
    "train_df['Title'] = train_df['Title'].replace('Mme', 'Mrs')\n",
    "\n",
    "test_df['Title'] = test_df['Title'].replace('Mlle', 'Miss')\n",
    "test_df['Title'] = test_df['Title'].replace('Ms', 'Miss')\n",
    "test_df['Title'] = test_df['Title'].replace('Mme', 'Mrs')"
   ]
  },
  {
   "cell_type": "code",
   "execution_count": 9,
   "metadata": {
    "execution": {
     "iopub.execute_input": "2021-01-06T18:27:27.512530Z",
     "iopub.status.busy": "2021-01-06T18:27:27.511806Z",
     "iopub.status.idle": "2021-01-06T18:27:27.742471Z",
     "shell.execute_reply": "2021-01-06T18:27:27.741798Z"
    },
    "papermill": {
     "duration": 0.26694,
     "end_time": "2021-01-06T18:27:27.742584",
     "exception": false,
     "start_time": "2021-01-06T18:27:27.475644",
     "status": "completed"
    },
    "tags": []
   },
   "outputs": [
    {
     "data": {
      "text/plain": [
       "<matplotlib.axes._subplots.AxesSubplot at 0x7fe50d403f90>"
      ]
     },
     "execution_count": 9,
     "metadata": {},
     "output_type": "execute_result"
    },
    {
     "data": {
      "image/png": "[encoded data removed]",
      "text/plain": [
       "<Figure size 1152x720 with 1 Axes>"
      ]
     },
     "metadata": {
      "needs_background": "light"
     },
     "output_type": "display_data"
    }
   ],
   "source": [
    "fig = plt.gcf()\n",
    "fig.set_size_inches(16, 10)\n",
    "sns.countplot(x=\"Title\", hue=\"Survived\", data=train_df)"
   ]
  },
  {
   "cell_type": "markdown",
   "metadata": {
    "papermill": {
     "duration": 0.03368,
     "end_time": "2021-01-06T18:27:27.810979",
     "exception": false,
     "start_time": "2021-01-06T18:27:27.777299",
     "status": "completed"
    },
    "tags": []
   },
   "source": [
    "We can observer that women and children have survived more than other groups\n",
    "Now let's transform these using label encoder."
   ]
  },
  {
   "cell_type": "code",
   "execution_count": 10,
   "metadata": {
    "execution": {
     "iopub.execute_input": "2021-01-06T18:27:27.898551Z",
     "iopub.status.busy": "2021-01-06T18:27:27.887749Z",
     "iopub.status.idle": "2021-01-06T18:27:27.903163Z",
     "shell.execute_reply": "2021-01-06T18:27:27.902406Z"
    },
    "papermill": {
     "duration": 0.058724,
     "end_time": "2021-01-06T18:27:27.903301",
     "exception": false,
     "start_time": "2021-01-06T18:27:27.844577",
     "status": "completed"
    },
    "tags": []
   },
   "outputs": [
    {
     "data": {
      "text/html": [
       "<div>\n",
       "<style scoped>\n",
       "    .dataframe tbody tr th:only-of-type {\n",
       "        vertical-align: middle;\n",
       "    }\n",
       "\n",
       "    .dataframe tbody tr th {\n",
       "        vertical-align: top;\n",
       "    }\n",
       "\n",
       "    .dataframe thead th {\n",
       "        text-align: right;\n",
       "    }\n",
       "</style>\n",
       "<table border=\"1\" class=\"dataframe\">\n",
       "  <thead>\n",
       "    <tr style=\"text-align: right;\">\n",
       "      <th></th>\n",
       "      <th>Title</th>\n",
       "      <th>Survived</th>\n",
       "    </tr>\n",
       "  </thead>\n",
       "  <tbody>\n",
       "    <tr>\n",
       "      <th>2</th>\n",
       "      <td>Mr</td>\n",
       "      <td>0.156673</td>\n",
       "    </tr>\n",
       "    <tr>\n",
       "      <th>4</th>\n",
       "      <td>Rare</td>\n",
       "      <td>0.347826</td>\n",
       "    </tr>\n",
       "    <tr>\n",
       "      <th>0</th>\n",
       "      <td>Master</td>\n",
       "      <td>0.575000</td>\n",
       "    </tr>\n",
       "    <tr>\n",
       "      <th>1</th>\n",
       "      <td>Miss</td>\n",
       "      <td>0.702703</td>\n",
       "    </tr>\n",
       "    <tr>\n",
       "      <th>3</th>\n",
       "      <td>Mrs</td>\n",
       "      <td>0.793651</td>\n",
       "    </tr>\n",
       "  </tbody>\n",
       "</table>\n",
       "</div>"
      ],
      "text/plain": [
       "    Title  Survived\n",
       "2      Mr  0.156673\n",
       "4    Rare  0.347826\n",
       "0  Master  0.575000\n",
       "1    Miss  0.702703\n",
       "3     Mrs  0.793651"
      ]
     },
     "execution_count": 10,
     "metadata": {},
     "output_type": "execute_result"
    }
   ],
   "source": [
    "train_df[['Title', 'Survived']].groupby(['Title'], as_index=False).mean().sort_values('Survived')"
   ]
  },
  {
   "cell_type": "code",
   "execution_count": 11,
   "metadata": {
    "execution": {
     "iopub.execute_input": "2021-01-06T18:27:27.983887Z",
     "iopub.status.busy": "2021-01-06T18:27:27.983139Z",
     "iopub.status.idle": "2021-01-06T18:27:27.987022Z",
     "shell.execute_reply": "2021-01-06T18:27:27.986443Z"
    },
    "papermill": {
     "duration": 0.048872,
     "end_time": "2021-01-06T18:27:27.987150",
     "exception": false,
     "start_time": "2021-01-06T18:27:27.938278",
     "status": "completed"
    },
    "tags": []
   },
   "outputs": [],
   "source": [
    "train_df.Title = train_df.Title.map({\"Mr\": 1, \"Miss\": 2, \"Mrs\": 3, \"Master\": 4, \"Rare\": 5})\n",
    "test_df.Title = test_df.Title.map({\"Mr\": 1, \"Miss\": 2, \"Mrs\": 3, \"Master\": 4, \"Rare\": 5})"
   ]
  },
  {
   "cell_type": "markdown",
   "metadata": {
    "papermill": {
     "duration": 0.045162,
     "end_time": "2021-01-06T18:27:28.079571",
     "exception": false,
     "start_time": "2021-01-06T18:27:28.034409",
     "status": "completed"
    },
    "tags": []
   },
   "source": [
    "# Sex\n",
    "There re no missing values as before, but we need to convert this categorical to numeric (binary) for feeding to our algorithm."
   ]
  },
  {
   "cell_type": "code",
   "execution_count": 12,
   "metadata": {
    "execution": {
     "iopub.execute_input": "2021-01-06T18:27:28.165003Z",
     "iopub.status.busy": "2021-01-06T18:27:28.163957Z",
     "iopub.status.idle": "2021-01-06T18:27:28.171605Z",
     "shell.execute_reply": "2021-01-06T18:27:28.172204Z"
    },
    "papermill": {
     "duration": 0.052577,
     "end_time": "2021-01-06T18:27:28.172352",
     "exception": false,
     "start_time": "2021-01-06T18:27:28.119775",
     "status": "completed"
    },
    "tags": []
   },
   "outputs": [
    {
     "data": {
      "text/plain": [
       "array(['male', 'female'], dtype=object)"
      ]
     },
     "execution_count": 12,
     "metadata": {},
     "output_type": "execute_result"
    }
   ],
   "source": [
    "train_df['Sex'].unique()"
   ]
  },
  {
   "cell_type": "code",
   "execution_count": 13,
   "metadata": {
    "execution": {
     "iopub.execute_input": "2021-01-06T18:27:28.250025Z",
     "iopub.status.busy": "2021-01-06T18:27:28.247612Z",
     "iopub.status.idle": "2021-01-06T18:27:28.423709Z",
     "shell.execute_reply": "2021-01-06T18:27:28.424301Z"
    },
    "papermill": {
     "duration": 0.216813,
     "end_time": "2021-01-06T18:27:28.424446",
     "exception": false,
     "start_time": "2021-01-06T18:27:28.207633",
     "status": "completed"
    },
    "tags": []
   },
   "outputs": [
    {
     "data": {
      "text/plain": [
       "<matplotlib.axes._subplots.AxesSubplot at 0x7fe50d391f90>"
      ]
     },
     "execution_count": 13,
     "metadata": {},
     "output_type": "execute_result"
    },
    {
     "data": {
      "image/png": "[encoded data removed]",
      "text/plain": [
       "<Figure size 1152x720 with 1 Axes>"
      ]
     },
     "metadata": {
      "needs_background": "light"
     },
     "output_type": "display_data"
    }
   ],
   "source": [
    "fig = plt.gcf()\n",
    "fig.set_size_inches(16, 10)\n",
    "sns.countplot(x=\"Sex\", hue=\"Survived\", data=train_df)"
   ]
  },
  {
   "cell_type": "code",
   "execution_count": 14,
   "metadata": {
    "execution": {
     "iopub.execute_input": "2021-01-06T18:27:28.507135Z",
     "iopub.status.busy": "2021-01-06T18:27:28.506313Z",
     "iopub.status.idle": "2021-01-06T18:27:28.509531Z",
     "shell.execute_reply": "2021-01-06T18:27:28.510171Z"
    },
    "papermill": {
     "duration": 0.049633,
     "end_time": "2021-01-06T18:27:28.510339",
     "exception": false,
     "start_time": "2021-01-06T18:27:28.460706",
     "status": "completed"
    },
    "tags": []
   },
   "outputs": [],
   "source": [
    "train_df['Sex'] = train_df['Sex'].map({'male': 0, 'female': 1})\n",
    "test_df['Sex'] = test_df['Sex'].map({'male': 0, 'female': 1})"
   ]
  },
  {
   "cell_type": "code",
   "execution_count": 15,
   "metadata": {
    "execution": {
     "iopub.execute_input": "2021-01-06T18:27:28.592093Z",
     "iopub.status.busy": "2021-01-06T18:27:28.590513Z",
     "iopub.status.idle": "2021-01-06T18:27:28.596019Z",
     "shell.execute_reply": "2021-01-06T18:27:28.595305Z"
    },
    "papermill": {
     "duration": 0.048701,
     "end_time": "2021-01-06T18:27:28.596156",
     "exception": false,
     "start_time": "2021-01-06T18:27:28.547455",
     "status": "completed"
    },
    "tags": []
   },
   "outputs": [
    {
     "data": {
      "text/plain": [
       "array([0, 1])"
      ]
     },
     "execution_count": 15,
     "metadata": {},
     "output_type": "execute_result"
    }
   ],
   "source": [
    "train_df['Sex'].unique()"
   ]
  },
  {
   "cell_type": "markdown",
   "metadata": {
    "papermill": {
     "duration": 0.037393,
     "end_time": "2021-01-06T18:27:28.671150",
     "exception": false,
     "start_time": "2021-01-06T18:27:28.633757",
     "status": "completed"
    },
    "tags": []
   },
   "source": [
    "# Ticket\n",
    "This is the ticket number of a pasenger. It is an alphanumeric feature and may not be related to Survival. Also it has many too unique values 681 out of 891\n",
    "So we will drop it."
   ]
  },
  {
   "cell_type": "code",
   "execution_count": 16,
   "metadata": {
    "execution": {
     "iopub.execute_input": "2021-01-06T18:27:28.754006Z",
     "iopub.status.busy": "2021-01-06T18:27:28.752995Z",
     "iopub.status.idle": "2021-01-06T18:27:28.756877Z",
     "shell.execute_reply": "2021-01-06T18:27:28.757408Z"
    },
    "papermill": {
     "duration": 0.049191,
     "end_time": "2021-01-06T18:27:28.757579",
     "exception": false,
     "start_time": "2021-01-06T18:27:28.708388",
     "status": "completed"
    },
    "tags": []
   },
   "outputs": [
    {
     "name": "stdout",
     "output_type": "stream",
     "text": [
      "Ticket column  has 681 unique alphanumeric values out of 891\n"
     ]
    }
   ],
   "source": [
    "print(f\"Ticket column  has {len(train_df.Ticket.unique())} unique alphanumeric values out of {len(train_df.Ticket)}\")"
   ]
  },
  {
   "cell_type": "markdown",
   "metadata": {
    "papermill": {
     "duration": 0.037657,
     "end_time": "2021-01-06T18:27:28.833563",
     "exception": false,
     "start_time": "2021-01-06T18:27:28.795906",
     "status": "completed"
    },
    "tags": []
   },
   "source": [
    "# Cabin\n",
    "This feature \n",
    "This is also an alphanumeric column and it has lots of missing data, 687 out of 891 to be excact. It would not be a good idea to keep this.\n",
    "So we will drop it."
   ]
  },
  {
   "cell_type": "code",
   "execution_count": 17,
   "metadata": {
    "execution": {
     "iopub.execute_input": "2021-01-06T18:27:28.918416Z",
     "iopub.status.busy": "2021-01-06T18:27:28.917392Z",
     "iopub.status.idle": "2021-01-06T18:27:28.922265Z",
     "shell.execute_reply": "2021-01-06T18:27:28.921665Z"
    },
    "papermill": {
     "duration": 0.048982,
     "end_time": "2021-01-06T18:27:28.922398",
     "exception": false,
     "start_time": "2021-01-06T18:27:28.873416",
     "status": "completed"
    },
    "tags": []
   },
   "outputs": [
    {
     "name": "stdout",
     "output_type": "stream",
     "text": [
      "Cabin column  has 148 unique alphanumeric values out of 891\n"
     ]
    }
   ],
   "source": [
    "print(f\"Cabin column  has {len(train_df.Cabin.unique())} unique alphanumeric values out of {len(train_df.Cabin)}\")"
   ]
  },
  {
   "cell_type": "markdown",
   "metadata": {
    "papermill": {
     "duration": 0.037645,
     "end_time": "2021-01-06T18:27:28.997782",
     "exception": false,
     "start_time": "2021-01-06T18:27:28.960137",
     "status": "completed"
    },
    "tags": []
   },
   "source": [
    "# Embarked\n",
    "\n",
    "Tells us the port at which a passenger got on the ship.\n",
    "C = Cherbourg, Q = Queenstown, S = Southampton\n",
    "This feature has 2 missing values. We can replace this by most common value S. But let's investigate first"
   ]
  },
  {
   "cell_type": "code",
   "execution_count": 18,
   "metadata": {
    "execution": {
     "iopub.execute_input": "2021-01-06T18:27:29.091738Z",
     "iopub.status.busy": "2021-01-06T18:27:29.090953Z",
     "iopub.status.idle": "2021-01-06T18:27:29.095222Z",
     "shell.execute_reply": "2021-01-06T18:27:29.094553Z"
    },
    "papermill": {
     "duration": 0.059787,
     "end_time": "2021-01-06T18:27:29.095353",
     "exception": false,
     "start_time": "2021-01-06T18:27:29.035566",
     "status": "completed"
    },
    "tags": []
   },
   "outputs": [
    {
     "data": {
      "text/html": [
       "<div>\n",
       "<style scoped>\n",
       "    .dataframe tbody tr th:only-of-type {\n",
       "        vertical-align: middle;\n",
       "    }\n",
       "\n",
       "    .dataframe tbody tr th {\n",
       "        vertical-align: top;\n",
       "    }\n",
       "\n",
       "    .dataframe thead th {\n",
       "        text-align: right;\n",
       "    }\n",
       "</style>\n",
       "<table border=\"1\" class=\"dataframe\">\n",
       "  <thead>\n",
       "    <tr style=\"text-align: right;\">\n",
       "      <th></th>\n",
       "      <th>PassengerId</th>\n",
       "      <th>Survived</th>\n",
       "      <th>Pclass</th>\n",
       "      <th>Name</th>\n",
       "      <th>Sex</th>\n",
       "      <th>Age</th>\n",
       "      <th>SibSp</th>\n",
       "      <th>Parch</th>\n",
       "      <th>Ticket</th>\n",
       "      <th>Fare</th>\n",
       "      <th>Cabin</th>\n",
       "      <th>Embarked</th>\n",
       "      <th>Title</th>\n",
       "    </tr>\n",
       "  </thead>\n",
       "  <tbody>\n",
       "    <tr>\n",
       "      <th>61</th>\n",
       "      <td>62</td>\n",
       "      <td>1</td>\n",
       "      <td>1</td>\n",
       "      <td>Icard, Miss. Amelie</td>\n",
       "      <td>1</td>\n",
       "      <td>38.0</td>\n",
       "      <td>0</td>\n",
       "      <td>0</td>\n",
       "      <td>113572</td>\n",
       "      <td>80.0</td>\n",
       "      <td>B28</td>\n",
       "      <td>NaN</td>\n",
       "      <td>2</td>\n",
       "    </tr>\n",
       "    <tr>\n",
       "      <th>829</th>\n",
       "      <td>830</td>\n",
       "      <td>1</td>\n",
       "      <td>1</td>\n",
       "      <td>Stone, Mrs. George Nelson (Martha Evelyn)</td>\n",
       "      <td>1</td>\n",
       "      <td>62.0</td>\n",
       "      <td>0</td>\n",
       "      <td>0</td>\n",
       "      <td>113572</td>\n",
       "      <td>80.0</td>\n",
       "      <td>B28</td>\n",
       "      <td>NaN</td>\n",
       "      <td>3</td>\n",
       "    </tr>\n",
       "  </tbody>\n",
       "</table>\n",
       "</div>"
      ],
      "text/plain": [
       "     PassengerId  Survived  Pclass                                       Name  \\\n",
       "61            62         1       1                        Icard, Miss. Amelie   \n",
       "829          830         1       1  Stone, Mrs. George Nelson (Martha Evelyn)   \n",
       "\n",
       "     Sex   Age  SibSp  Parch  Ticket  Fare Cabin Embarked  Title  \n",
       "61     1  38.0      0      0  113572  80.0   B28      NaN      2  \n",
       "829    1  62.0      0      0  113572  80.0   B28      NaN      3  "
      ]
     },
     "execution_count": 18,
     "metadata": {},
     "output_type": "execute_result"
    }
   ],
   "source": [
    "train_df[train_df.Embarked.isna()]"
   ]
  },
  {
   "cell_type": "markdown",
   "metadata": {
    "papermill": {
     "duration": 0.039927,
     "end_time": "2021-01-06T18:27:29.175444",
     "exception": false,
     "start_time": "2021-01-06T18:27:29.135517",
     "status": "completed"
    },
    "tags": []
   },
   "source": [
    "In both the cases, the passengers are females, of Pclass value 1 and have survived. They also have paid same fare and are in same cabin. This is intresting.\n",
    "But other than that there seems no way to know the embarked value."
   ]
  },
  {
   "cell_type": "code",
   "execution_count": 19,
   "metadata": {
    "execution": {
     "iopub.execute_input": "2021-01-06T18:27:29.266768Z",
     "iopub.status.busy": "2021-01-06T18:27:29.265749Z",
     "iopub.status.idle": "2021-01-06T18:27:29.270546Z",
     "shell.execute_reply": "2021-01-06T18:27:29.269899Z"
    },
    "papermill": {
     "duration": 0.055919,
     "end_time": "2021-01-06T18:27:29.270670",
     "exception": false,
     "start_time": "2021-01-06T18:27:29.214751",
     "status": "completed"
    },
    "tags": []
   },
   "outputs": [
    {
     "data": {
      "text/html": [
       "<div>\n",
       "<style scoped>\n",
       "    .dataframe tbody tr th:only-of-type {\n",
       "        vertical-align: middle;\n",
       "    }\n",
       "\n",
       "    .dataframe tbody tr th {\n",
       "        vertical-align: top;\n",
       "    }\n",
       "\n",
       "    .dataframe thead th {\n",
       "        text-align: right;\n",
       "    }\n",
       "</style>\n",
       "<table border=\"1\" class=\"dataframe\">\n",
       "  <thead>\n",
       "    <tr style=\"text-align: right;\">\n",
       "      <th></th>\n",
       "      <th>PassengerId</th>\n",
       "      <th>Pclass</th>\n",
       "      <th>Name</th>\n",
       "      <th>Sex</th>\n",
       "      <th>Age</th>\n",
       "      <th>SibSp</th>\n",
       "      <th>Parch</th>\n",
       "      <th>Ticket</th>\n",
       "      <th>Fare</th>\n",
       "      <th>Cabin</th>\n",
       "      <th>Embarked</th>\n",
       "      <th>Title</th>\n",
       "    </tr>\n",
       "  </thead>\n",
       "  <tbody>\n",
       "  </tbody>\n",
       "</table>\n",
       "</div>"
      ],
      "text/plain": [
       "Empty DataFrame\n",
       "Columns: [PassengerId, Pclass, Name, Sex, Age, SibSp, Parch, Ticket, Fare, Cabin, Embarked, Title]\n",
       "Index: []"
      ]
     },
     "execution_count": 19,
     "metadata": {},
     "output_type": "execute_result"
    }
   ],
   "source": [
    "test_df[test_df.Embarked.isna()]"
   ]
  },
  {
   "cell_type": "code",
   "execution_count": 20,
   "metadata": {
    "execution": {
     "iopub.execute_input": "2021-01-06T18:27:29.358745Z",
     "iopub.status.busy": "2021-01-06T18:27:29.357726Z",
     "iopub.status.idle": "2021-01-06T18:27:29.361257Z",
     "shell.execute_reply": "2021-01-06T18:27:29.360551Z"
    },
    "papermill": {
     "duration": 0.050397,
     "end_time": "2021-01-06T18:27:29.361392",
     "exception": false,
     "start_time": "2021-01-06T18:27:29.310995",
     "status": "completed"
    },
    "tags": []
   },
   "outputs": [],
   "source": [
    "# replacing na with S\n",
    "train_df.Embarked = train_df.Embarked.fillna('S')"
   ]
  },
  {
   "cell_type": "code",
   "execution_count": 21,
   "metadata": {
    "execution": {
     "iopub.execute_input": "2021-01-06T18:27:29.451025Z",
     "iopub.status.busy": "2021-01-06T18:27:29.450212Z",
     "iopub.status.idle": "2021-01-06T18:27:29.646908Z",
     "shell.execute_reply": "2021-01-06T18:27:29.646249Z"
    },
    "papermill": {
     "duration": 0.245669,
     "end_time": "2021-01-06T18:27:29.647026",
     "exception": false,
     "start_time": "2021-01-06T18:27:29.401357",
     "status": "completed"
    },
    "tags": []
   },
   "outputs": [
    {
     "data": {
      "text/plain": [
       "<matplotlib.axes._subplots.AxesSubplot at 0x7fe50d3d9590>"
      ]
     },
     "execution_count": 21,
     "metadata": {},
     "output_type": "execute_result"
    },
    {
     "data": {
      "image/png": "[encoded data removed]",
      "text/plain": [
       "<Figure size 1152x720 with 1 Axes>"
      ]
     },
     "metadata": {
      "needs_background": "light"
     },
     "output_type": "display_data"
    }
   ],
   "source": [
    "fig = plt.gcf()\n",
    "fig.set_size_inches(16, 10)\n",
    "sns.countplot(x=\"Embarked\", hue=\"Survived\", data=train_df)"
   ]
  },
  {
   "cell_type": "code",
   "execution_count": 22,
   "metadata": {
    "execution": {
     "iopub.execute_input": "2021-01-06T18:27:29.745716Z",
     "iopub.status.busy": "2021-01-06T18:27:29.738888Z",
     "iopub.status.idle": "2021-01-06T18:27:29.750938Z",
     "shell.execute_reply": "2021-01-06T18:27:29.750302Z"
    },
    "papermill": {
     "duration": 0.062015,
     "end_time": "2021-01-06T18:27:29.751068",
     "exception": false,
     "start_time": "2021-01-06T18:27:29.689053",
     "status": "completed"
    },
    "tags": []
   },
   "outputs": [
    {
     "data": {
      "text/html": [
       "<div>\n",
       "<style scoped>\n",
       "    .dataframe tbody tr th:only-of-type {\n",
       "        vertical-align: middle;\n",
       "    }\n",
       "\n",
       "    .dataframe tbody tr th {\n",
       "        vertical-align: top;\n",
       "    }\n",
       "\n",
       "    .dataframe thead th {\n",
       "        text-align: right;\n",
       "    }\n",
       "</style>\n",
       "<table border=\"1\" class=\"dataframe\">\n",
       "  <thead>\n",
       "    <tr style=\"text-align: right;\">\n",
       "      <th></th>\n",
       "      <th>Embarked</th>\n",
       "      <th>Survived</th>\n",
       "    </tr>\n",
       "  </thead>\n",
       "  <tbody>\n",
       "    <tr>\n",
       "      <th>2</th>\n",
       "      <td>S</td>\n",
       "      <td>0.339009</td>\n",
       "    </tr>\n",
       "    <tr>\n",
       "      <th>1</th>\n",
       "      <td>Q</td>\n",
       "      <td>0.389610</td>\n",
       "    </tr>\n",
       "    <tr>\n",
       "      <th>0</th>\n",
       "      <td>C</td>\n",
       "      <td>0.553571</td>\n",
       "    </tr>\n",
       "  </tbody>\n",
       "</table>\n",
       "</div>"
      ],
      "text/plain": [
       "  Embarked  Survived\n",
       "2        S  0.339009\n",
       "1        Q  0.389610\n",
       "0        C  0.553571"
      ]
     },
     "execution_count": 22,
     "metadata": {},
     "output_type": "execute_result"
    }
   ],
   "source": [
    "train_df[['Embarked', 'Survived']].groupby(['Embarked'], as_index=False).mean().sort_values('Survived')"
   ]
  },
  {
   "cell_type": "code",
   "execution_count": 23,
   "metadata": {
    "execution": {
     "iopub.execute_input": "2021-01-06T18:27:29.846299Z",
     "iopub.status.busy": "2021-01-06T18:27:29.845622Z",
     "iopub.status.idle": "2021-01-06T18:27:29.849572Z",
     "shell.execute_reply": "2021-01-06T18:27:29.848549Z"
    },
    "papermill": {
     "duration": 0.055234,
     "end_time": "2021-01-06T18:27:29.849705",
     "exception": false,
     "start_time": "2021-01-06T18:27:29.794471",
     "status": "completed"
    },
    "tags": []
   },
   "outputs": [],
   "source": [
    "train_df.Embarked = train_df.Embarked.map({'S': 0, 'C': 1, 'Q': 2})\n",
    "test_df.Embarked = test_df.Embarked.map({'S': 0, 'C': 1, 'Q': 2})"
   ]
  },
  {
   "cell_type": "markdown",
   "metadata": {
    "papermill": {
     "duration": 0.041634,
     "end_time": "2021-01-06T18:27:29.933534",
     "exception": false,
     "start_time": "2021-01-06T18:27:29.891900",
     "status": "completed"
    },
    "tags": []
   },
   "source": [
    "# Fare\n",
    "1 missing in test_df, Highest correlation"
   ]
  },
  {
   "cell_type": "code",
   "execution_count": 24,
   "metadata": {
    "execution": {
     "iopub.execute_input": "2021-01-06T18:27:30.031131Z",
     "iopub.status.busy": "2021-01-06T18:27:30.030158Z",
     "iopub.status.idle": "2021-01-06T18:27:30.415918Z",
     "shell.execute_reply": "2021-01-06T18:27:30.415205Z"
    },
    "papermill": {
     "duration": 0.438923,
     "end_time": "2021-01-06T18:27:30.416055",
     "exception": false,
     "start_time": "2021-01-06T18:27:29.977132",
     "status": "completed"
    },
    "tags": []
   },
   "outputs": [
    {
     "data": {
      "text/plain": [
       "<matplotlib.axes._subplots.AxesSubplot at 0x7fe506fea190>"
      ]
     },
     "execution_count": 24,
     "metadata": {},
     "output_type": "execute_result"
    },
    {
     "data": {
      "image/png": "[encoded data removed]",
      "text/plain": [
       "<Figure size 720x720 with 1 Axes>"
      ]
     },
     "metadata": {
      "needs_background": "light"
     },
     "output_type": "display_data"
    }
   ],
   "source": [
    "fig = plt.gcf()\n",
    "fig.set_size_inches(10, 10)\n",
    "sns.scatterplot(data=train_df, x=\"Survived\", y=\"Age\", hue=\"Sex\", size=\"Fare\", sizes=(50,1000))\n"
   ]
  },
  {
   "cell_type": "markdown",
   "metadata": {
    "papermill": {
     "duration": 0.04382,
     "end_time": "2021-01-06T18:27:30.504321",
     "exception": false,
     "start_time": "2021-01-06T18:27:30.460501",
     "status": "completed"
    },
    "tags": []
   },
   "source": [
    "Conclusions that can be drawn from this scatter plot:\n",
    "1. There are more orange circles in survived section-> More females survived than males\n",
    "2. The size of the circles in the survived column are comparatively larger than the ones in the not-survived column. Larger circle->larger fare. So people withe more fare are more likely to survive"
   ]
  },
  {
   "cell_type": "code",
   "execution_count": 25,
   "metadata": {
    "execution": {
     "iopub.execute_input": "2021-01-06T18:27:30.607470Z",
     "iopub.status.busy": "2021-01-06T18:27:30.602869Z",
     "iopub.status.idle": "2021-01-06T18:27:30.613088Z",
     "shell.execute_reply": "2021-01-06T18:27:30.612388Z"
    },
    "papermill": {
     "duration": 0.064803,
     "end_time": "2021-01-06T18:27:30.613225",
     "exception": false,
     "start_time": "2021-01-06T18:27:30.548422",
     "status": "completed"
    },
    "tags": []
   },
   "outputs": [
    {
     "data": {
      "text/html": [
       "<div>\n",
       "<style scoped>\n",
       "    .dataframe tbody tr th:only-of-type {\n",
       "        vertical-align: middle;\n",
       "    }\n",
       "\n",
       "    .dataframe tbody tr th {\n",
       "        vertical-align: top;\n",
       "    }\n",
       "\n",
       "    .dataframe thead th {\n",
       "        text-align: right;\n",
       "    }\n",
       "</style>\n",
       "<table border=\"1\" class=\"dataframe\">\n",
       "  <thead>\n",
       "    <tr style=\"text-align: right;\">\n",
       "      <th></th>\n",
       "      <th>PassengerId</th>\n",
       "      <th>Pclass</th>\n",
       "      <th>Name</th>\n",
       "      <th>Sex</th>\n",
       "      <th>Age</th>\n",
       "      <th>SibSp</th>\n",
       "      <th>Parch</th>\n",
       "      <th>Ticket</th>\n",
       "      <th>Fare</th>\n",
       "      <th>Cabin</th>\n",
       "      <th>Embarked</th>\n",
       "      <th>Title</th>\n",
       "    </tr>\n",
       "  </thead>\n",
       "  <tbody>\n",
       "    <tr>\n",
       "      <th>152</th>\n",
       "      <td>1044</td>\n",
       "      <td>3</td>\n",
       "      <td>Storey, Mr. Thomas</td>\n",
       "      <td>0</td>\n",
       "      <td>60.5</td>\n",
       "      <td>0</td>\n",
       "      <td>0</td>\n",
       "      <td>3701</td>\n",
       "      <td>NaN</td>\n",
       "      <td>NaN</td>\n",
       "      <td>0</td>\n",
       "      <td>1</td>\n",
       "    </tr>\n",
       "  </tbody>\n",
       "</table>\n",
       "</div>"
      ],
      "text/plain": [
       "     PassengerId  Pclass                Name  Sex   Age  SibSp  Parch Ticket  \\\n",
       "152         1044       3  Storey, Mr. Thomas    0  60.5      0      0   3701   \n",
       "\n",
       "     Fare Cabin  Embarked  Title  \n",
       "152   NaN   NaN         0      1  "
      ]
     },
     "execution_count": 25,
     "metadata": {},
     "output_type": "execute_result"
    }
   ],
   "source": [
    "test_df[test_df.Fare.isna()]"
   ]
  },
  {
   "cell_type": "code",
   "execution_count": 26,
   "metadata": {
    "execution": {
     "iopub.execute_input": "2021-01-06T18:27:30.720984Z",
     "iopub.status.busy": "2021-01-06T18:27:30.710600Z",
     "iopub.status.idle": "2021-01-06T18:27:30.725865Z",
     "shell.execute_reply": "2021-01-06T18:27:30.725322Z"
    },
    "papermill": {
     "duration": 0.067496,
     "end_time": "2021-01-06T18:27:30.725987",
     "exception": false,
     "start_time": "2021-01-06T18:27:30.658491",
     "status": "completed"
    },
    "tags": []
   },
   "outputs": [
    {
     "data": {
      "text/html": [
       "<div>\n",
       "<style scoped>\n",
       "    .dataframe tbody tr th:only-of-type {\n",
       "        vertical-align: middle;\n",
       "    }\n",
       "\n",
       "    .dataframe tbody tr th {\n",
       "        vertical-align: top;\n",
       "    }\n",
       "\n",
       "    .dataframe thead th {\n",
       "        text-align: right;\n",
       "    }\n",
       "</style>\n",
       "<table border=\"1\" class=\"dataframe\">\n",
       "  <thead>\n",
       "    <tr style=\"text-align: right;\">\n",
       "      <th></th>\n",
       "      <th>PassengerId</th>\n",
       "      <th>Survived</th>\n",
       "      <th>Pclass</th>\n",
       "      <th>Name</th>\n",
       "      <th>Sex</th>\n",
       "      <th>Age</th>\n",
       "      <th>SibSp</th>\n",
       "      <th>Parch</th>\n",
       "      <th>Ticket</th>\n",
       "      <th>Fare</th>\n",
       "      <th>Cabin</th>\n",
       "      <th>Embarked</th>\n",
       "      <th>Title</th>\n",
       "    </tr>\n",
       "  </thead>\n",
       "  <tbody>\n",
       "    <tr>\n",
       "      <th>326</th>\n",
       "      <td>327</td>\n",
       "      <td>0</td>\n",
       "      <td>3</td>\n",
       "      <td>Nysveen, Mr. Johan Hansen</td>\n",
       "      <td>0</td>\n",
       "      <td>61.0</td>\n",
       "      <td>0</td>\n",
       "      <td>0</td>\n",
       "      <td>345364</td>\n",
       "      <td>6.2375</td>\n",
       "      <td>NaN</td>\n",
       "      <td>0</td>\n",
       "      <td>1</td>\n",
       "    </tr>\n",
       "    <tr>\n",
       "      <th>851</th>\n",
       "      <td>852</td>\n",
       "      <td>0</td>\n",
       "      <td>3</td>\n",
       "      <td>Svensson, Mr. Johan</td>\n",
       "      <td>0</td>\n",
       "      <td>74.0</td>\n",
       "      <td>0</td>\n",
       "      <td>0</td>\n",
       "      <td>347060</td>\n",
       "      <td>7.7750</td>\n",
       "      <td>NaN</td>\n",
       "      <td>0</td>\n",
       "      <td>1</td>\n",
       "    </tr>\n",
       "  </tbody>\n",
       "</table>\n",
       "</div>"
      ],
      "text/plain": [
       "     PassengerId  Survived  Pclass                       Name  Sex   Age  \\\n",
       "326          327         0       3  Nysveen, Mr. Johan Hansen    0  61.0   \n",
       "851          852         0       3        Svensson, Mr. Johan    0  74.0   \n",
       "\n",
       "     SibSp  Parch  Ticket    Fare Cabin  Embarked  Title  \n",
       "326      0      0  345364  6.2375   NaN         0      1  \n",
       "851      0      0  347060  7.7750   NaN         0      1  "
      ]
     },
     "execution_count": 26,
     "metadata": {},
     "output_type": "execute_result"
    }
   ],
   "source": [
    "train_df[(train_df.Pclass==3) & (train_df.Title==1) & (train_df.Embarked==0) & (train_df.Age>=60)]"
   ]
  },
  {
   "cell_type": "code",
   "execution_count": 27,
   "metadata": {
    "execution": {
     "iopub.execute_input": "2021-01-06T18:27:30.838645Z",
     "iopub.status.busy": "2021-01-06T18:27:30.830353Z",
     "iopub.status.idle": "2021-01-06T18:27:30.843738Z",
     "shell.execute_reply": "2021-01-06T18:27:30.844211Z"
    },
    "papermill": {
     "duration": 0.073389,
     "end_time": "2021-01-06T18:27:30.844374",
     "exception": false,
     "start_time": "2021-01-06T18:27:30.770985",
     "status": "completed"
    },
    "tags": []
   },
   "outputs": [
    {
     "data": {
      "text/html": [
       "<div>\n",
       "<style scoped>\n",
       "    .dataframe tbody tr th:only-of-type {\n",
       "        vertical-align: middle;\n",
       "    }\n",
       "\n",
       "    .dataframe tbody tr th {\n",
       "        vertical-align: top;\n",
       "    }\n",
       "\n",
       "    .dataframe thead th {\n",
       "        text-align: right;\n",
       "    }\n",
       "</style>\n",
       "<table border=\"1\" class=\"dataframe\">\n",
       "  <thead>\n",
       "    <tr style=\"text-align: right;\">\n",
       "      <th></th>\n",
       "      <th>PassengerId</th>\n",
       "      <th>Survived</th>\n",
       "      <th>Pclass</th>\n",
       "      <th>Name</th>\n",
       "      <th>Sex</th>\n",
       "      <th>Age</th>\n",
       "      <th>SibSp</th>\n",
       "      <th>Parch</th>\n",
       "      <th>Ticket</th>\n",
       "      <th>Fare</th>\n",
       "      <th>Cabin</th>\n",
       "      <th>Embarked</th>\n",
       "      <th>Title</th>\n",
       "    </tr>\n",
       "  </thead>\n",
       "  <tbody>\n",
       "    <tr>\n",
       "      <th>94</th>\n",
       "      <td>95</td>\n",
       "      <td>0</td>\n",
       "      <td>3</td>\n",
       "      <td>Coxon, Mr. Daniel</td>\n",
       "      <td>0</td>\n",
       "      <td>59.0</td>\n",
       "      <td>0</td>\n",
       "      <td>0</td>\n",
       "      <td>364500</td>\n",
       "      <td>7.2500</td>\n",
       "      <td>NaN</td>\n",
       "      <td>0</td>\n",
       "      <td>1</td>\n",
       "    </tr>\n",
       "    <tr>\n",
       "      <th>152</th>\n",
       "      <td>153</td>\n",
       "      <td>0</td>\n",
       "      <td>3</td>\n",
       "      <td>Meo, Mr. Alfonzo</td>\n",
       "      <td>0</td>\n",
       "      <td>55.5</td>\n",
       "      <td>0</td>\n",
       "      <td>0</td>\n",
       "      <td>A.5. 11206</td>\n",
       "      <td>8.0500</td>\n",
       "      <td>NaN</td>\n",
       "      <td>0</td>\n",
       "      <td>1</td>\n",
       "    </tr>\n",
       "    <tr>\n",
       "      <th>222</th>\n",
       "      <td>223</td>\n",
       "      <td>0</td>\n",
       "      <td>3</td>\n",
       "      <td>Green, Mr. George Henry</td>\n",
       "      <td>0</td>\n",
       "      <td>51.0</td>\n",
       "      <td>0</td>\n",
       "      <td>0</td>\n",
       "      <td>21440</td>\n",
       "      <td>8.0500</td>\n",
       "      <td>NaN</td>\n",
       "      <td>0</td>\n",
       "      <td>1</td>\n",
       "    </tr>\n",
       "    <tr>\n",
       "      <th>326</th>\n",
       "      <td>327</td>\n",
       "      <td>0</td>\n",
       "      <td>3</td>\n",
       "      <td>Nysveen, Mr. Johan Hansen</td>\n",
       "      <td>0</td>\n",
       "      <td>61.0</td>\n",
       "      <td>0</td>\n",
       "      <td>0</td>\n",
       "      <td>345364</td>\n",
       "      <td>6.2375</td>\n",
       "      <td>NaN</td>\n",
       "      <td>0</td>\n",
       "      <td>1</td>\n",
       "    </tr>\n",
       "    <tr>\n",
       "      <th>406</th>\n",
       "      <td>407</td>\n",
       "      <td>0</td>\n",
       "      <td>3</td>\n",
       "      <td>Widegren, Mr. Carl/Charles Peter</td>\n",
       "      <td>0</td>\n",
       "      <td>51.0</td>\n",
       "      <td>0</td>\n",
       "      <td>0</td>\n",
       "      <td>347064</td>\n",
       "      <td>7.7500</td>\n",
       "      <td>NaN</td>\n",
       "      <td>0</td>\n",
       "      <td>1</td>\n",
       "    </tr>\n",
       "    <tr>\n",
       "      <th>482</th>\n",
       "      <td>483</td>\n",
       "      <td>0</td>\n",
       "      <td>3</td>\n",
       "      <td>Rouse, Mr. Richard Henry</td>\n",
       "      <td>0</td>\n",
       "      <td>50.0</td>\n",
       "      <td>0</td>\n",
       "      <td>0</td>\n",
       "      <td>A/5 3594</td>\n",
       "      <td>8.0500</td>\n",
       "      <td>NaN</td>\n",
       "      <td>0</td>\n",
       "      <td>1</td>\n",
       "    </tr>\n",
       "    <tr>\n",
       "      <th>631</th>\n",
       "      <td>632</td>\n",
       "      <td>0</td>\n",
       "      <td>3</td>\n",
       "      <td>Lundahl, Mr. Johan Svensson</td>\n",
       "      <td>0</td>\n",
       "      <td>51.0</td>\n",
       "      <td>0</td>\n",
       "      <td>0</td>\n",
       "      <td>347743</td>\n",
       "      <td>7.0542</td>\n",
       "      <td>NaN</td>\n",
       "      <td>0</td>\n",
       "      <td>1</td>\n",
       "    </tr>\n",
       "    <tr>\n",
       "      <th>851</th>\n",
       "      <td>852</td>\n",
       "      <td>0</td>\n",
       "      <td>3</td>\n",
       "      <td>Svensson, Mr. Johan</td>\n",
       "      <td>0</td>\n",
       "      <td>74.0</td>\n",
       "      <td>0</td>\n",
       "      <td>0</td>\n",
       "      <td>347060</td>\n",
       "      <td>7.7750</td>\n",
       "      <td>NaN</td>\n",
       "      <td>0</td>\n",
       "      <td>1</td>\n",
       "    </tr>\n",
       "  </tbody>\n",
       "</table>\n",
       "</div>"
      ],
      "text/plain": [
       "     PassengerId  Survived  Pclass                              Name  Sex  \\\n",
       "94            95         0       3                 Coxon, Mr. Daniel    0   \n",
       "152          153         0       3                  Meo, Mr. Alfonzo    0   \n",
       "222          223         0       3           Green, Mr. George Henry    0   \n",
       "326          327         0       3         Nysveen, Mr. Johan Hansen    0   \n",
       "406          407         0       3  Widegren, Mr. Carl/Charles Peter    0   \n",
       "482          483         0       3          Rouse, Mr. Richard Henry    0   \n",
       "631          632         0       3       Lundahl, Mr. Johan Svensson    0   \n",
       "851          852         0       3               Svensson, Mr. Johan    0   \n",
       "\n",
       "      Age  SibSp  Parch      Ticket    Fare Cabin  Embarked  Title  \n",
       "94   59.0      0      0      364500  7.2500   NaN         0      1  \n",
       "152  55.5      0      0  A.5. 11206  8.0500   NaN         0      1  \n",
       "222  51.0      0      0       21440  8.0500   NaN         0      1  \n",
       "326  61.0      0      0      345364  6.2375   NaN         0      1  \n",
       "406  51.0      0      0      347064  7.7500   NaN         0      1  \n",
       "482  50.0      0      0    A/5 3594  8.0500   NaN         0      1  \n",
       "631  51.0      0      0      347743  7.0542   NaN         0      1  \n",
       "851  74.0      0      0      347060  7.7750   NaN         0      1  "
      ]
     },
     "execution_count": 27,
     "metadata": {},
     "output_type": "execute_result"
    }
   ],
   "source": [
    "train_df[(train_df.Pclass==3) & (train_df.Title==1) & (train_df.Embarked==0) & (train_df.Age>=50)]"
   ]
  },
  {
   "cell_type": "markdown",
   "metadata": {
    "papermill": {
     "duration": 0.04536,
     "end_time": "2021-01-06T18:27:30.935131",
     "exception": false,
     "start_time": "2021-01-06T18:27:30.889771",
     "status": "completed"
    },
    "tags": []
   },
   "source": [
    "An intresting thing to note is that for passengers with age greater than 60 (or even 50) years, where the Pclass, title, sex, embarked is same as the person with missing data. So it would be a wiser shoice to impute this using mean from this group rather than mean fare of whole dataset. "
   ]
  },
  {
   "cell_type": "code",
   "execution_count": 28,
   "metadata": {
    "execution": {
     "iopub.execute_input": "2021-01-06T18:27:31.035978Z",
     "iopub.status.busy": "2021-01-06T18:27:31.035310Z",
     "iopub.status.idle": "2021-01-06T18:27:31.038390Z",
     "shell.execute_reply": "2021-01-06T18:27:31.038910Z"
    },
    "papermill": {
     "duration": 0.058281,
     "end_time": "2021-01-06T18:27:31.039048",
     "exception": false,
     "start_time": "2021-01-06T18:27:30.980767",
     "status": "completed"
    },
    "tags": []
   },
   "outputs": [],
   "source": [
    "mean_fare_grp = train_df[(train_df.Pclass==3) & (train_df.Title==1) & (train_df.Embarked==0) & (train_df.Age>=50)].Fare.mean()"
   ]
  },
  {
   "cell_type": "code",
   "execution_count": 29,
   "metadata": {
    "execution": {
     "iopub.execute_input": "2021-01-06T18:27:31.138244Z",
     "iopub.status.busy": "2021-01-06T18:27:31.137536Z",
     "iopub.status.idle": "2021-01-06T18:27:31.143260Z",
     "shell.execute_reply": "2021-01-06T18:27:31.142540Z"
    },
    "papermill": {
     "duration": 0.058499,
     "end_time": "2021-01-06T18:27:31.143401",
     "exception": false,
     "start_time": "2021-01-06T18:27:31.084902",
     "status": "completed"
    },
    "tags": []
   },
   "outputs": [],
   "source": [
    "test_df.Fare = test_df.Fare.fillna(mean_fare_grp)"
   ]
  },
  {
   "cell_type": "code",
   "execution_count": 30,
   "metadata": {
    "execution": {
     "iopub.execute_input": "2021-01-06T18:27:31.255921Z",
     "iopub.status.busy": "2021-01-06T18:27:31.254966Z",
     "iopub.status.idle": "2021-01-06T18:27:31.260709Z",
     "shell.execute_reply": "2021-01-06T18:27:31.260182Z"
    },
    "papermill": {
     "duration": 0.070972,
     "end_time": "2021-01-06T18:27:31.260866",
     "exception": false,
     "start_time": "2021-01-06T18:27:31.189894",
     "status": "completed"
    },
    "tags": []
   },
   "outputs": [
    {
     "data": {
      "text/html": [
       "<div>\n",
       "<style scoped>\n",
       "    .dataframe tbody tr th:only-of-type {\n",
       "        vertical-align: middle;\n",
       "    }\n",
       "\n",
       "    .dataframe tbody tr th {\n",
       "        vertical-align: top;\n",
       "    }\n",
       "\n",
       "    .dataframe thead th {\n",
       "        text-align: right;\n",
       "    }\n",
       "</style>\n",
       "<table border=\"1\" class=\"dataframe\">\n",
       "  <thead>\n",
       "    <tr style=\"text-align: right;\">\n",
       "      <th></th>\n",
       "      <th>PassengerId</th>\n",
       "      <th>Survived</th>\n",
       "      <th>Pclass</th>\n",
       "      <th>Name</th>\n",
       "      <th>Sex</th>\n",
       "      <th>Age</th>\n",
       "      <th>SibSp</th>\n",
       "      <th>Parch</th>\n",
       "      <th>Ticket</th>\n",
       "      <th>Fare</th>\n",
       "      <th>Cabin</th>\n",
       "      <th>Embarked</th>\n",
       "      <th>Title</th>\n",
       "    </tr>\n",
       "  </thead>\n",
       "  <tbody>\n",
       "    <tr>\n",
       "      <th>179</th>\n",
       "      <td>180</td>\n",
       "      <td>0</td>\n",
       "      <td>3</td>\n",
       "      <td>Leonard, Mr. Lionel</td>\n",
       "      <td>0</td>\n",
       "      <td>36.0</td>\n",
       "      <td>0</td>\n",
       "      <td>0</td>\n",
       "      <td>LINE</td>\n",
       "      <td>0.0</td>\n",
       "      <td>NaN</td>\n",
       "      <td>0</td>\n",
       "      <td>1</td>\n",
       "    </tr>\n",
       "    <tr>\n",
       "      <th>271</th>\n",
       "      <td>272</td>\n",
       "      <td>1</td>\n",
       "      <td>3</td>\n",
       "      <td>Tornquist, Mr. William Henry</td>\n",
       "      <td>0</td>\n",
       "      <td>25.0</td>\n",
       "      <td>0</td>\n",
       "      <td>0</td>\n",
       "      <td>LINE</td>\n",
       "      <td>0.0</td>\n",
       "      <td>NaN</td>\n",
       "      <td>0</td>\n",
       "      <td>1</td>\n",
       "    </tr>\n",
       "    <tr>\n",
       "      <th>302</th>\n",
       "      <td>303</td>\n",
       "      <td>0</td>\n",
       "      <td>3</td>\n",
       "      <td>Johnson, Mr. William Cahoone Jr</td>\n",
       "      <td>0</td>\n",
       "      <td>19.0</td>\n",
       "      <td>0</td>\n",
       "      <td>0</td>\n",
       "      <td>LINE</td>\n",
       "      <td>0.0</td>\n",
       "      <td>NaN</td>\n",
       "      <td>0</td>\n",
       "      <td>1</td>\n",
       "    </tr>\n",
       "    <tr>\n",
       "      <th>597</th>\n",
       "      <td>598</td>\n",
       "      <td>0</td>\n",
       "      <td>3</td>\n",
       "      <td>Johnson, Mr. Alfred</td>\n",
       "      <td>0</td>\n",
       "      <td>49.0</td>\n",
       "      <td>0</td>\n",
       "      <td>0</td>\n",
       "      <td>LINE</td>\n",
       "      <td>0.0</td>\n",
       "      <td>NaN</td>\n",
       "      <td>0</td>\n",
       "      <td>1</td>\n",
       "    </tr>\n",
       "  </tbody>\n",
       "</table>\n",
       "</div>"
      ],
      "text/plain": [
       "     PassengerId  Survived  Pclass                             Name  Sex  \\\n",
       "179          180         0       3              Leonard, Mr. Lionel    0   \n",
       "271          272         1       3     Tornquist, Mr. William Henry    0   \n",
       "302          303         0       3  Johnson, Mr. William Cahoone Jr    0   \n",
       "597          598         0       3              Johnson, Mr. Alfred    0   \n",
       "\n",
       "      Age  SibSp  Parch Ticket  Fare Cabin  Embarked  Title  \n",
       "179  36.0      0      0   LINE   0.0   NaN         0      1  \n",
       "271  25.0      0      0   LINE   0.0   NaN         0      1  \n",
       "302  19.0      0      0   LINE   0.0   NaN         0      1  \n",
       "597  49.0      0      0   LINE   0.0   NaN         0      1  "
      ]
     },
     "execution_count": 30,
     "metadata": {},
     "output_type": "execute_result"
    }
   ],
   "source": [
    "train_df[train_df.Ticket=='LINE']"
   ]
  },
  {
   "cell_type": "markdown",
   "metadata": {
    "papermill": {
     "duration": 0.048061,
     "end_time": "2021-01-06T18:27:31.356430",
     "exception": false,
     "start_time": "2021-01-06T18:27:31.308369",
     "status": "completed"
    },
    "tags": []
   },
   "source": [
    "So there are four cases with zero fare. I don't know how that is possible. May be they were in the waiting line..?\n",
    "But one of them survived. Moving on.."
   ]
  },
  {
   "cell_type": "markdown",
   "metadata": {
    "papermill": {
     "duration": 0.046719,
     "end_time": "2021-01-06T18:27:31.450350",
     "exception": false,
     "start_time": "2021-01-06T18:27:31.403631",
     "status": "completed"
    },
    "tags": []
   },
   "source": []
  }
 ],
 "metadata": {
  "kernelspec": {
   "display_name": "Python 3",
   "language": "python",
   "name": "python3"
  },
  "language_info": {
   "codemirror_mode": {
    "name": "ipython",
    "version": 3
   },
   "file_extension": ".py",
   "mimetype": "text/x-python",
   "name": "python",
   "nbconvert_exporter": "python",
   "pygments_lexer": "ipython3",
   "version": "3.7.6"
  },
  "papermill": {
   "duration": 13.03488,
   "end_time": "2021-01-06T18:27:32.595161",
   "environment_variables": {},
   "exception": null,
   "input_path": "__notebook__.ipynb",
   "output_path": "__notebook__.ipynb",
   "parameters": {},
   "start_time": "2021-01-06T18:27:19.560281",
   "version": "2.1.0"
  }
 },
 "nbformat": 4,
 "nbformat_minor": 4
}
